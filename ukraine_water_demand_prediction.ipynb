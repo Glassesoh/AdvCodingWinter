{
  "nbformat": 4,
  "nbformat_minor": 0,
  "metadata": {
    "colab": {
      "provenance": [],
      "mount_file_id": "1IH1dJeWkLAiqi-60xlhwT8PSIaJf9r45",
      "authorship_tag": "ABX9TyOkLN4RBqzwQFiao5xWI1mQ",
      "include_colab_link": true
    },
    "kernelspec": {
      "name": "python3",
      "display_name": "Python 3"
    },
    "language_info": {
      "name": "python"
    }
  },
  "cells": [
    {
      "cell_type": "markdown",
      "metadata": {
        "id": "view-in-github",
        "colab_type": "text"
      },
      "source": [
        "<a href=\"https://colab.research.google.com/github/Glassesoh/AdvCodingWinter/blob/main/ukraine_water_demand_prediction.ipynb\" target=\"_parent\"><img src=\"https://colab.research.google.com/assets/colab-badge.svg\" alt=\"Open In Colab\"/></a>"
      ]
    },
    {
      "cell_type": "code",
      "source": [
        "from numpy import array\n",
        "from keras.models import Sequential\n",
        "import keras.layers\n",
        "def sequence(arr, step):\n",
        "  x,y= list(), list()\n",
        "  for i in range (len(arr)):\n",
        "    end=i+step\n",
        "    if end>len(arr)-1:\n",
        "      break\n",
        "    seq_x, seq_y = arr[i:end],arr[end]\n",
        "    x.append(seq_x)\n",
        "    y.append(seq_y)\n",
        "  return array(x), array(y)\n",
        "\n",
        "\n",
        "raw_data=[10,20,30,40,50,60,70,80,90]\n",
        "step=4\n",
        "x,y=sequence(raw_data, step)\n",
        "for i in range (len(x)):\n",
        "  print(x[i],y[i])\n",
        "\n",
        "ft=1\n",
        "sq=2\n",
        "step=2\n",
        "x=x.reshape((x.shape[0],sq,step,ft))\n"
      ],
      "metadata": {
        "colab": {
          "base_uri": "https://localhost:8080/"
        },
        "id": "XZHV2Eiw3pB8",
        "outputId": "4876c26f-0b89-4554-dc3c-35be514943fb"
      },
      "execution_count": 11,
      "outputs": [
        {
          "output_type": "stream",
          "name": "stdout",
          "text": [
            "[10 20 30 40] 50\n",
            "[20 30 40 50] 60\n",
            "[30 40 50 60] 70\n",
            "[40 50 60 70] 80\n",
            "[50 60 70 80] 90\n"
          ]
        }
      ]
    },
    {
      "cell_type": "code",
      "source": [
        "from keras import layers\n",
        "from keras.layers import TimeDistributed\n",
        "from keras.layers import Conv1D\n",
        "from keras.layers import LSTM\n",
        "from keras.layers import MaxPooling1D\n",
        "from keras.layers import Flatten\n",
        "from keras.layers import Dense\n",
        "model=Sequential()\n",
        "model.add(TimeDistributed(Conv1D(filters=64,kernel_size=1,activation='relu'),input_shape=(None,step,ft)))\n",
        "model.add(TimeDistributed(MaxPooling1D(pool_size=2)))\n",
        "model.add(TimeDistributed(Conv1D(filters=64, kernel_size=1, activation='relu'),input_shape=(None,step,ft)))\n",
        "model.add(TimeDistributed(Flatten()))\n",
        "model.add(LSTM(50,activation='relu'))\n",
        "model.add(Dense(1))\n",
        "model.compile(optimizer='adam',loss='mse')\n",
        "\n",
        "model.fit(x,y,epochs=300, verbose=0)\n",
        "x_input=array([60,70,80,90])\n",
        "x_input=x_input.reshape(1,sq,step,ft)\n",
        "result=model.predict(x_input,verbose=0)\n",
        "print(result)\n"
      ],
      "metadata": {
        "id": "49Qw92mep8Ld",
        "colab": {
          "base_uri": "https://localhost:8080/"
        },
        "outputId": "532a4202-a828-4277-dd54-4d5f9735384c"
      },
      "execution_count": 12,
      "outputs": [
        {
          "output_type": "stream",
          "name": "stdout",
          "text": [
            "[[102.24096]]\n"
          ]
        }
      ]
    },
    {
      "cell_type": "code",
      "source": [
        "model.summary()"
      ],
      "metadata": {
        "colab": {
          "base_uri": "https://localhost:8080/"
        },
        "id": "o6Bv7_5cH-_d",
        "outputId": "1b2720f9-c01e-4baa-f952-cfb1b419a6ac"
      },
      "execution_count": 13,
      "outputs": [
        {
          "output_type": "stream",
          "name": "stdout",
          "text": [
            "Model: \"sequential_6\"\n",
            "_________________________________________________________________\n",
            " Layer (type)                Output Shape              Param #   \n",
            "=================================================================\n",
            " time_distributed_23 (TimeD  (None, None, 2, 64)       128       \n",
            " istributed)                                                     \n",
            "                                                                 \n",
            " time_distributed_24 (TimeD  (None, None, 1, 64)       0         \n",
            " istributed)                                                     \n",
            "                                                                 \n",
            " time_distributed_25 (TimeD  (None, None, 1, 64)       4160      \n",
            " istributed)                                                     \n",
            "                                                                 \n",
            " time_distributed_26 (TimeD  (None, None, 64)          0         \n",
            " istributed)                                                     \n",
            "                                                                 \n",
            " lstm_4 (LSTM)               (None, 50)                23000     \n",
            "                                                                 \n",
            " dense_3 (Dense)             (None, 1)                 51        \n",
            "                                                                 \n",
            "=================================================================\n",
            "Total params: 27339 (106.79 KB)\n",
            "Trainable params: 27339 (106.79 KB)\n",
            "Non-trainable params: 0 (0.00 Byte)\n",
            "_________________________________________________________________\n"
          ]
        }
      ]
    },
    {
      "cell_type": "code",
      "source": [
        "\"\"\"\n",
        "with open('/content/Untitled spreadsheet - dist 1.csv') as fn:\n",
        "  all_line = fn.readlines()\n",
        "  new_all_line = []\n",
        "  for line in all_line:\n",
        "    if len(line) != 5:\n",
        "      line = line.split(',')\n",
        "      new_line = []\n",
        "      for ele in line:\n",
        "        if '\\n' in ele:\n",
        "          ele = ele[:-1]\n",
        "\n",
        "        new_line.append(float(ele))\n",
        "    new_all_line.append(new_line)\n",
        "\"\"\"\n",
        "ukraine_test=[18.28,11.88675,10.899,9.109,9.325,10.705,10.705,10.596,9.459]\n",
        "\n",
        "x = [[0.0305,0.0295,0.03275,0.01975,0.012,0.0305,0.039,0.0295,0.0265,0.047],\n",
        "             [0.0405,0.04025,0.1465,0.02525,0.03,0.0235,0.05325,0.05075,0.07475,0.02125],\n",
        "             [0.07425,0.06375,0.0595,0.09,0.13875,0.04425,0.09425,0.0765,0.15,0.0855],\n",
        "             [0.06625,0.07175,0.061,0.05525,0.04575,0.074,0.08875,0.07525,0.18125,0.0545]\n",
        "             ]\n",
        "x_both = [[0.0305,0.0295,0.03275,0.01975,0.012,0.0305,0.039,0.0295,0.0265,0.047],\n",
        "             [0.0405,0.04025,0.1465,0.02525,0.03,0.0235,0.05325,0.05075,0.07475,0.02125],\n",
        "             [0.07425,0.06375,0.0595,0.09,0.13875,0.04425,0.09425,0.0765,0.15,0.0855],\n",
        "             [0.06625,0.07175,0.061,0.05525,0.04575,0.074,0.08875,0.07525,0.18125,0.0545],\n",
        "             [0.05225,0.04575,0.05425,0.02325,0.036,0.0395,0.05725,0.04625,0.039,0.04825],\n",
        "             [0.05025,0.0245,0.04575,0.01625,0.0135,0.032,0.02175,0.0245,0.0405,0.012],\n",
        "             [0.03325,0.0365,0.07075,0.0125,0.0855,0.024,0.035,0.03875,0.041,0.03125],\n",
        "             [0.0395,0.0255,0.02525,0.025,0.022,0.02675,0.04575,0.03225,0.03175,0.018675]\n",
        "             ]\n",
        "sum=1+2\n",
        "x=np.array(x_both)\n",
        "#print(x.index([0.0305,0.0295,0.03275,0.01975,0.012,0.0305,0.039,0.0295,0.0265,0.047]))\n",
        "\"\"\"\n",
        "for i in range(4):\n",
        "  for j in range((int)(len(x[i-1])/sum)):\n",
        "\n",
        "    value_x=np.append(j-1,np.array([x[i-1][j*sum],x[i-1][j*sum+1],x[i-1][j*sum+2]]))\n",
        "    split(value_x,2,1)\n",
        "    tempx,y =np.array(split(x[i-1],2,1))\n",
        "    x_dataset=np.append(i-1,np.array(tempx))\n",
        "    y_dataset=np.append(i-1,np.array(y))\n",
        "\n",
        "x_dataset = np.array(x_dataset)\n",
        "y_dataset = np.array(y_dataset)\n",
        "\"\"\"\n",
        "\n",
        "cnt=0\n",
        "x_dataset = []\n",
        "y_dataset = []\n",
        "for lines in x_both:\n",
        "  for i in range(len(lines)-2):\n",
        "    x_dataset.append(np.array([lines[i],lines[i+1]]))\n",
        "    y_dataset.append(np.array([lines[i+2]]))\n",
        "print(x_dataset)\n",
        "print(y_dataset)\n",
        "x_dataset = np.array(x_dataset)\n",
        "y_dataset = np.array(y_dataset)\n",
        "print(x_dataset.shape)\n",
        "print(y_dataset.shape)"
      ],
      "metadata": {
        "id": "NVoCzeHKfZoh",
        "colab": {
          "base_uri": "https://localhost:8080/"
        },
        "outputId": "0d965998-62ac-4290-8a15-42648e06e560"
      },
      "execution_count": null,
      "outputs": [
        {
          "output_type": "stream",
          "name": "stdout",
          "text": [
            "[array([0.0305, 0.0295]), array([0.0295 , 0.03275]), array([0.03275, 0.01975]), array([0.01975, 0.012  ]), array([0.012 , 0.0305]), array([0.0305, 0.039 ]), array([0.039 , 0.0295]), array([0.0295, 0.0265]), array([0.0405 , 0.04025]), array([0.04025, 0.1465 ]), array([0.1465 , 0.02525]), array([0.02525, 0.03   ]), array([0.03  , 0.0235]), array([0.0235 , 0.05325]), array([0.05325, 0.05075]), array([0.05075, 0.07475]), array([0.07425, 0.06375]), array([0.06375, 0.0595 ]), array([0.0595, 0.09  ]), array([0.09   , 0.13875]), array([0.13875, 0.04425]), array([0.04425, 0.09425]), array([0.09425, 0.0765 ]), array([0.0765, 0.15  ]), array([0.06625, 0.07175]), array([0.07175, 0.061  ]), array([0.061  , 0.05525]), array([0.05525, 0.04575]), array([0.04575, 0.074  ]), array([0.074  , 0.08875]), array([0.08875, 0.07525]), array([0.07525, 0.18125]), array([0.05225, 0.04575]), array([0.04575, 0.05425]), array([0.05425, 0.02325]), array([0.02325, 0.036  ]), array([0.036 , 0.0395]), array([0.0395 , 0.05725]), array([0.05725, 0.04625]), array([0.04625, 0.039  ]), array([0.05025, 0.0245 ]), array([0.0245 , 0.04575]), array([0.04575, 0.01625]), array([0.01625, 0.0135 ]), array([0.0135, 0.032 ]), array([0.032  , 0.02175]), array([0.02175, 0.0245 ]), array([0.0245, 0.0405]), array([0.03325, 0.0365 ]), array([0.0365 , 0.07075]), array([0.07075, 0.0125 ]), array([0.0125, 0.0855]), array([0.0855, 0.024 ]), array([0.024, 0.035]), array([0.035  , 0.03875]), array([0.03875, 0.041  ]), array([0.0395, 0.0255]), array([0.0255 , 0.02525]), array([0.02525, 0.025  ]), array([0.025, 0.022]), array([0.022  , 0.02675]), array([0.02675, 0.04575]), array([0.04575, 0.03225]), array([0.03225, 0.03175])]\n",
            "[array([0.03275]), array([0.01975]), array([0.012]), array([0.0305]), array([0.039]), array([0.0295]), array([0.0265]), array([0.047]), array([0.1465]), array([0.02525]), array([0.03]), array([0.0235]), array([0.05325]), array([0.05075]), array([0.07475]), array([0.02125]), array([0.0595]), array([0.09]), array([0.13875]), array([0.04425]), array([0.09425]), array([0.0765]), array([0.15]), array([0.0855]), array([0.061]), array([0.05525]), array([0.04575]), array([0.074]), array([0.08875]), array([0.07525]), array([0.18125]), array([0.0545]), array([0.05425]), array([0.02325]), array([0.036]), array([0.0395]), array([0.05725]), array([0.04625]), array([0.039]), array([0.04825]), array([0.04575]), array([0.01625]), array([0.0135]), array([0.032]), array([0.02175]), array([0.0245]), array([0.0405]), array([0.012]), array([0.07075]), array([0.0125]), array([0.0855]), array([0.024]), array([0.035]), array([0.03875]), array([0.041]), array([0.03125]), array([0.02525]), array([0.025]), array([0.022]), array([0.02675]), array([0.04575]), array([0.03225]), array([0.03175]), array([0.018675])]\n",
            "(64, 2)\n",
            "(64, 1)\n"
          ]
        }
      ]
    },
    {
      "cell_type": "code",
      "source": [
        "print(x_dataset.shape)"
      ],
      "metadata": {
        "colab": {
          "base_uri": "https://localhost:8080/"
        },
        "id": "q1fjGwBIqqoT",
        "outputId": "172935fd-34aa-49b1-f43b-4639debc3ac7"
      },
      "execution_count": null,
      "outputs": [
        {
          "output_type": "stream",
          "name": "stdout",
          "text": [
            "(64, 2)\n"
          ]
        }
      ]
    },
    {
      "cell_type": "code",
      "source": [
        "x_train,x_test,y_train,y_test = train_test_split(x_dataset,y_dataset,test_size = 0.1)"
      ],
      "metadata": {
        "id": "lRaBfDl5oqSs"
      },
      "execution_count": null,
      "outputs": []
    },
    {
      "cell_type": "code",
      "source": [
        "x = layers.Input(2,) ###\n",
        "h = layers.Embedding(20000, 128)(x)\n",
        "h = layers.LSTM(128)(h)\n",
        "y = layers.Dense(1, activation='sigmoid')(h)\n",
        "\n",
        "model = models.Model(x,y)\n",
        "x_train.shape"
      ],
      "metadata": {
        "id": "bYVMF-y_qSds",
        "colab": {
          "base_uri": "https://localhost:8080/"
        },
        "outputId": "053a4b6a-d68c-484f-a85f-d04b86a74b9c"
      },
      "execution_count": null,
      "outputs": [
        {
          "output_type": "execute_result",
          "data": {
            "text/plain": [
              "(57, 2)"
            ]
          },
          "metadata": {},
          "execution_count": 36
        }
      ]
    },
    {
      "cell_type": "code",
      "source": [
        "adam = tf.keras.optimizers.Adam(\n",
        "    learning_rate=0.0001,\n",
        "    beta_1=0.9,\n",
        "    beta_2=0.999,\n",
        "    epsilon=1e-07,\n",
        "    name='Adam',\n",
        ")\n",
        "model.compile(adam,'mse')\n",
        "history= model.fit(x_train,y_train,epochs=10,validation_data=(x_test,y_test))"
      ],
      "metadata": {
        "colab": {
          "base_uri": "https://localhost:8080/"
        },
        "id": "RwbPnld0qZcr",
        "outputId": "243228d0-3857-4ef4-e287-b40712925982"
      },
      "execution_count": null,
      "outputs": [
        {
          "output_type": "stream",
          "name": "stdout",
          "text": [
            "Epoch 1/10\n",
            "2/2 [==============================] - 3s 596ms/step - loss: 0.1735 - val_loss: 0.1732\n",
            "Epoch 2/10\n",
            "2/2 [==============================] - 0s 57ms/step - loss: 0.1719 - val_loss: 0.1716\n",
            "Epoch 3/10\n",
            "2/2 [==============================] - 0s 57ms/step - loss: 0.1702 - val_loss: 0.1699\n",
            "Epoch 4/10\n",
            "2/2 [==============================] - 0s 60ms/step - loss: 0.1686 - val_loss: 0.1683\n",
            "Epoch 5/10\n",
            "2/2 [==============================] - 0s 59ms/step - loss: 0.1670 - val_loss: 0.1666\n",
            "Epoch 6/10\n",
            "2/2 [==============================] - 0s 67ms/step - loss: 0.1653 - val_loss: 0.1649\n",
            "Epoch 7/10\n",
            "2/2 [==============================] - 0s 58ms/step - loss: 0.1636 - val_loss: 0.1632\n",
            "Epoch 8/10\n",
            "2/2 [==============================] - 0s 59ms/step - loss: 0.1619 - val_loss: 0.1615\n",
            "Epoch 9/10\n",
            "2/2 [==============================] - 0s 61ms/step - loss: 0.1602 - val_loss: 0.1597\n",
            "Epoch 10/10\n",
            "2/2 [==============================] - 0s 58ms/step - loss: 0.1584 - val_loss: 0.1579\n"
          ]
        }
      ]
    },
    {
      "cell_type": "code",
      "source": [
        "model.predict([[0.0405,0.04025]])"
      ],
      "metadata": {
        "colab": {
          "base_uri": "https://localhost:8080/"
        },
        "id": "hZUVYFB1q8h1",
        "outputId": "8a5bbf41-8f63-410d-bbf7-622318a649c4"
      },
      "execution_count": null,
      "outputs": [
        {
          "output_type": "execute_result",
          "data": {
            "text/plain": [
              "array([[0.44417837]], dtype=float32)"
            ]
          },
          "metadata": {},
          "execution_count": 45
        }
      ]
    },
    {
      "cell_type": "code",
      "source": [
        "from keras import utils"
      ],
      "metadata": {
        "id": "v2uVhNA8oMnS"
      },
      "execution_count": null,
      "outputs": []
    },
    {
      "cell_type": "code",
      "source": [
        "print(model.summary())"
      ],
      "metadata": {
        "colab": {
          "base_uri": "https://localhost:8080/"
        },
        "id": "gxsAKY0ipFL3",
        "outputId": "88490f1d-74f9-431f-c586-72ec86b34769"
      },
      "execution_count": null,
      "outputs": [
        {
          "output_type": "stream",
          "name": "stdout",
          "text": [
            "Model: \"model_6\"\n",
            "_________________________________________________________________\n",
            " Layer (type)                Output Shape              Param #   \n",
            "=================================================================\n",
            " input_8 (InputLayer)        [(None, 2)]               0         \n",
            "                                                                 \n",
            " embedding_6 (Embedding)     (None, 2, 128)            2560000   \n",
            "                                                                 \n",
            " lstm (LSTM)                 (None, 128)               131584    \n",
            "                                                                 \n",
            " dense_6 (Dense)             (None, 1)                 129       \n",
            "                                                                 \n",
            "=================================================================\n",
            "Total params: 2,691,713\n",
            "Trainable params: 2,691,713\n",
            "Non-trainable params: 0\n",
            "_________________________________________________________________\n",
            "None\n"
          ]
        }
      ]
    },
    {
      "cell_type": "code",
      "source": [
        "print(history.history.keys())\n",
        "#  \"Accuracy\"\n",
        "import matplotlib.pyplot as plt\n",
        "plt.plot(history.history['loss'])\n",
        "plt.plot(history.history['val_loss'])\n",
        "plt.title('model loss')\n",
        "plt.ylabel('loss')\n",
        "plt.xlabel('epoch')\n",
        "plt.legend(['train', 'val'], loc='upper left')\n",
        "plt.show()"
      ],
      "metadata": {
        "colab": {
          "base_uri": "https://localhost:8080/",
          "height": 312
        },
        "id": "s62UHURRpGll",
        "outputId": "828c94a8-05a3-4abb-cd91-faccb0dd0021"
      },
      "execution_count": null,
      "outputs": [
        {
          "output_type": "stream",
          "name": "stdout",
          "text": [
            "dict_keys(['loss', 'val_loss'])\n"
          ]
        },
        {
          "output_type": "display_data",
          "data": {
            "text/plain": [
              "<Figure size 432x288 with 1 Axes>"
            ],
            "image/png": "[encoded data removed]"
          },
          "metadata": {
            "needs_background": "light"
          }
        }
      ]
    },
    {
      "cell_type": "code",
      "source": [],
      "metadata": {
        "id": "0_u4a0glrSaz"
      },
      "execution_count": null,
      "outputs": []
    }
  ]
}